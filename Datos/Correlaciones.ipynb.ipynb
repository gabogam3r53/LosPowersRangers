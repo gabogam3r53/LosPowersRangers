{
 "cells": [
  {
   "cell_type": "code",
   "execution_count": null,
   "metadata": {
    "colab": {
     "base_uri": "https://localhost:8080/",
     "height": 1000
    },
    "executionInfo": {
     "elapsed": 493,
     "status": "ok",
     "timestamp": 1731459267522,
     "user": {
      "displayName": "cristhian franquiz",
      "userId": "02599321507198567051"
     },
     "user_tz": 240
    },
    "id": "siBQ6cnm8eEY",
    "outputId": "1adcb33d-56e9-463b-b4b5-4557e3764bb1"
   },
   "outputs": [
    {
     "name": "stderr",
     "output_type": "stream",
     "text": [
      "Matplotlib is building the font cache; this may take a moment.\n"
     ]
    },
    {
     "name": "stdout",
     "output_type": "stream",
     "text": [
      "               Contrato 2024  RANK 2023  AGE 2023   GP 2023    W 2023  \\\n",
      "Contrato 2024       1.000000  -0.516666  0.278263  0.276231  0.208179   \n",
      "RANK 2023          -0.516666   1.000000 -0.205526 -0.272700 -0.239374   \n",
      "AGE 2023            0.278263  -0.205526  1.000000 -0.104624  0.082849   \n",
      "GP 2023             0.276231  -0.272700 -0.104624  1.000000  0.601870   \n",
      "W 2023              0.208179  -0.239374  0.082849  0.601870  1.000000   \n",
      "L 2023              0.056233  -0.068898 -0.210144  0.542825 -0.343986   \n",
      "MIN 2023            0.508026  -0.932242  0.171507  0.342801  0.253766   \n",
      "PTS 2023            0.535918  -0.953059  0.179029  0.269104  0.261189   \n",
      "FGM 2023            0.545035  -0.954877  0.160665  0.273652  0.256169   \n",
      "FGA 2023            0.550673  -0.942623  0.168069  0.300267  0.239613   \n",
      "FG% 2023            0.191312  -0.280611  0.032309 -0.046654  0.077948   \n",
      "3PM 2023            0.336499  -0.618569  0.226843  0.245415  0.288028   \n",
      "3PA 2023            0.340055  -0.618323  0.234613  0.262622  0.269607   \n",
      "3P% 2023            0.047194  -0.319434  0.242234  0.039815  0.109906   \n",
      "FTM 2023            0.441144  -0.829999  0.133511  0.173683  0.164019   \n",
      "FTA 2023            0.455810  -0.833664  0.093511  0.171581  0.155306   \n",
      "FT% 2023            0.051940  -0.297933  0.118803  0.046927 -0.006162   \n",
      "OREB 2023           0.245479  -0.429408 -0.120091  0.112452  0.088560   \n",
      "DREB 2023           0.422367  -0.709781  0.084282  0.218872  0.182822   \n",
      "REB 2023            0.392550  -0.665915  0.025266  0.199036  0.164818   \n",
      "AST 2023            0.408681  -0.635667  0.256756  0.235515  0.264774   \n",
      "TOV 2023            0.571330  -0.824741  0.148597  0.231135  0.107272   \n",
      "STL 2023            0.415965  -0.711938  0.172536  0.125399  0.165640   \n",
      "BLK 2023            0.242783  -0.386894  0.009908  0.199305  0.106799   \n",
      "PF 2023             0.432033  -0.689188  0.056404  0.152833  0.068266   \n",
      "FP 2023             0.558099  -0.947584  0.184137  0.283278  0.276905   \n",
      "DD2 2023            0.384833  -0.493454  0.045724  0.223135  0.265278   \n",
      "TD3 2023            0.364806  -0.178349  0.071283  0.141483  0.181992   \n",
      "+/- 2023            0.237196  -0.335896  0.184221  0.067351  0.639330   \n",
      "\n",
      "                 L 2023  MIN 2023  PTS 2023  FGM 2023  FGA 2023  ...  \\\n",
      "Contrato 2024  0.056233  0.508026  0.535918  0.545035  0.550673  ...   \n",
      "RANK 2023     -0.068898 -0.932242 -0.953059 -0.954877 -0.942623  ...   \n",
      "AGE 2023      -0.210144  0.171507  0.179029  0.160665  0.168069  ...   \n",
      "GP 2023        0.542825  0.342801  0.269104  0.273652  0.300267  ...   \n",
      "W 2023        -0.343986  0.253766  0.261189  0.256169  0.239613  ...   \n",
      "L 2023         1.000000  0.136186  0.041728  0.052355  0.101060  ...   \n",
      "MIN 2023       0.136186  1.000000  0.886697  0.893309  0.893238  ...   \n",
      "PTS 2023       0.041728  0.886697  1.000000  0.986792  0.980690  ...   \n",
      "FGM 2023       0.052355  0.893309  0.986792  1.000000  0.970348  ...   \n",
      "FGA 2023       0.101060  0.893238  0.980690  0.970348  1.000000  ...   \n",
      "FG% 2023      -0.136830  0.223545  0.252835  0.312024  0.138066  ...   \n",
      "3PM 2023      -0.014351  0.593458  0.649297  0.558879  0.666472  ...   \n",
      "3PA 2023       0.025253  0.600930  0.654576  0.563285  0.691475  ...   \n",
      "3P% 2023      -0.068770  0.268990  0.301848  0.252759  0.297847  ...   \n",
      "FTM 2023       0.031722  0.745888  0.917537  0.873466  0.874279  ...   \n",
      "FTA 2023       0.038414  0.747941  0.912126  0.882533  0.868857  ...   \n",
      "FT% 2023       0.061656  0.254128  0.284570  0.226746  0.262674  ...   \n",
      "OREB 2023      0.039084  0.406364  0.409535  0.489913  0.365344  ...   \n",
      "DREB 2023      0.065080  0.709044  0.716649  0.765390  0.684821  ...   \n",
      "REB 2023       0.060692  0.656530  0.664757  0.725992  0.626778  ...   \n",
      "AST 2023      -0.001537  0.730815  0.599006  0.583145  0.625460  ...   \n",
      "TOV 2023       0.158951  0.837672  0.801599  0.808680  0.822327  ...   \n",
      "STL 2023      -0.026754  0.782363  0.688639  0.693609  0.700046  ...   \n",
      "BLK 2023       0.122024  0.378355  0.387798  0.453127  0.354400  ...   \n",
      "PF 2023        0.107906  0.699978  0.607773  0.638564  0.591366  ...   \n",
      "FP 2023        0.041865  0.927504  0.967879  0.970853  0.952323  ...   \n",
      "DD2 2023      -0.016623  0.482976  0.546945  0.600935  0.518337  ...   \n",
      "TD3 2023      -0.025039  0.242801  0.183433  0.209056  0.202584  ...   \n",
      "+/- 2023      -0.593164  0.286402  0.356557  0.346920  0.291205  ...   \n",
      "\n",
      "               REB 2023  AST 2023  TOV 2023  STL 2023  BLK 2023   PF 2023  \\\n",
      "Contrato 2024  0.392550  0.408681  0.571330  0.415965  0.242783  0.432033   \n",
      "RANK 2023     -0.665915 -0.635667 -0.824741 -0.711938 -0.386894 -0.689188   \n",
      "AGE 2023       0.025266  0.256756  0.148597  0.172536  0.009908  0.056404   \n",
      "GP 2023        0.199036  0.235515  0.231135  0.125399  0.199305  0.152833   \n",
      "W 2023         0.164818  0.264774  0.107272  0.165640  0.106799  0.068266   \n",
      "L 2023         0.060692 -0.001537  0.158951 -0.026754  0.122024  0.107906   \n",
      "MIN 2023       0.656530  0.730815  0.837672  0.782363  0.378355  0.699978   \n",
      "PTS 2023       0.664757  0.599006  0.801599  0.688639  0.387798  0.607773   \n",
      "FGM 2023       0.725992  0.583145  0.808680  0.693609  0.453127  0.638564   \n",
      "FGA 2023       0.626778  0.625460  0.822327  0.700046  0.354400  0.591366   \n",
      "FG% 2023       0.453041  0.019360  0.193836  0.151409  0.354259  0.309205   \n",
      "3PM 2023       0.067635  0.477200  0.460018  0.401163 -0.061111  0.205552   \n",
      "3PA 2023       0.065839  0.475978  0.466226  0.413187 -0.053361  0.227684   \n",
      "3P% 2023      -0.094029  0.248633  0.205970  0.267987 -0.163722  0.084255   \n",
      "FTM 2023       0.609248  0.514609  0.718223  0.613140  0.324126  0.553301   \n",
      "FTA 2023       0.668740  0.496268  0.729309  0.604317  0.378755  0.594889   \n",
      "FT% 2023      -0.030372  0.242366  0.159342  0.204573 -0.123929  0.055330   \n",
      "OREB 2023      0.858562  0.034392  0.372261  0.336108  0.616900  0.636635   \n",
      "DREB 2023      0.977246  0.406041  0.677401  0.578714  0.674414  0.660955   \n",
      "REB 2023       1.000000  0.314241  0.622955  0.540422  0.696995  0.693364   \n",
      "AST 2023       0.314241  1.000000  0.767396  0.654616  0.045186  0.359006   \n",
      "TOV 2023       0.622955  0.767396  1.000000  0.681044  0.298818  0.649023   \n",
      "STL 2023       0.540422  0.654616  0.681044  1.000000  0.303589  0.627694   \n",
      "BLK 2023       0.696995  0.045186  0.298818  0.303589  1.000000  0.430784   \n",
      "PF 2023        0.693364  0.359006  0.649023  0.627694  0.430784  1.000000   \n",
      "FP 2023        0.774079  0.681527  0.851115  0.776765  0.494334  0.676371   \n",
      "DD2 2023       0.793024  0.405983  0.533814  0.424960  0.537793  0.433873   \n",
      "TD3 2023       0.317014  0.468188  0.372106  0.252885  0.027992  0.115284   \n",
      "+/- 2023       0.257199  0.350175  0.203841  0.339337  0.117942  0.151845   \n",
      "\n",
      "                FP 2023  DD2 2023  TD3 2023  +/- 2023  \n",
      "Contrato 2024  0.558099  0.384833  0.364806  0.237196  \n",
      "RANK 2023     -0.947584 -0.493454 -0.178349 -0.335896  \n",
      "AGE 2023       0.184137  0.045724  0.071283  0.184221  \n",
      "GP 2023        0.283278  0.223135  0.141483  0.067351  \n",
      "W 2023         0.276905  0.265278  0.181992  0.639330  \n",
      "L 2023         0.041865 -0.016623 -0.025039 -0.593164  \n",
      "MIN 2023       0.927504  0.482976  0.242801  0.286402  \n",
      "PTS 2023       0.967879  0.546945  0.183433  0.356557  \n",
      "FGM 2023       0.970853  0.600935  0.209056  0.346920  \n",
      "FGA 2023       0.952323  0.518337  0.202584  0.291205  \n",
      "FG% 2023       0.285027  0.288022  0.044171  0.156448  \n",
      "3PM 2023       0.572807  0.009779  0.005757  0.322309  \n",
      "3PA 2023       0.575418  0.013398 -0.020950  0.267238  \n",
      "3P% 2023       0.246736 -0.082327 -0.097777  0.244138  \n",
      "FTM 2023       0.870650  0.510967  0.145916  0.277179  \n",
      "FTA 2023       0.876898  0.566180  0.179954  0.260646  \n",
      "FT% 2023       0.230474 -0.010314 -0.041863  0.200002  \n",
      "OREB 2023      0.503232  0.622199  0.172845  0.133384  \n",
      "DREB 2023      0.823615  0.797510  0.351530  0.285345  \n",
      "REB 2023       0.774079  0.793024  0.317014  0.257199  \n",
      "AST 2023       0.681527  0.405983  0.468188  0.350175  \n",
      "TOV 2023       0.851115  0.533814  0.372106  0.203841  \n",
      "STL 2023       0.776765  0.424960  0.252885  0.339337  \n",
      "BLK 2023       0.494334  0.537793  0.027992  0.117942  \n",
      "PF 2023        0.676371  0.433873  0.115284  0.151845  \n",
      "FP 2023        1.000000  0.645613  0.281155  0.387887  \n",
      "DD2 2023       0.645613  1.000000  0.579863  0.316358  \n",
      "TD3 2023       0.281155  0.579863  1.000000  0.168186  \n",
      "+/- 2023       0.387887  0.316358  0.168186  1.000000  \n",
      "\n",
      "[29 rows x 29 columns]\n"
     ]
    },
    {
     "ename": "ImportError",
     "evalue": "background_gradient requires matplotlib.",
     "output_type": "error",
     "traceback": [
      "\u001b[1;31m---------------------------------------------------------------------------\u001b[0m",
      "\u001b[1;31mImportError\u001b[0m                               Traceback (most recent call last)",
      "File \u001b[1;32mc:\\Users\\Persona\\anaconda3\\envs\\proyecto_samsung_python\\Lib\\site-packages\\IPython\\core\\formatters.py:347\u001b[0m, in \u001b[0;36mBaseFormatter.__call__\u001b[1;34m(self, obj)\u001b[0m\n\u001b[0;32m    345\u001b[0m     method \u001b[38;5;241m=\u001b[39m get_real_method(obj, \u001b[38;5;28mself\u001b[39m\u001b[38;5;241m.\u001b[39mprint_method)\n\u001b[0;32m    346\u001b[0m     \u001b[38;5;28;01mif\u001b[39;00m method \u001b[38;5;129;01mis\u001b[39;00m \u001b[38;5;129;01mnot\u001b[39;00m \u001b[38;5;28;01mNone\u001b[39;00m:\n\u001b[1;32m--> 347\u001b[0m         \u001b[38;5;28;01mreturn\u001b[39;00m \u001b[43mmethod\u001b[49m\u001b[43m(\u001b[49m\u001b[43m)\u001b[49m\n\u001b[0;32m    348\u001b[0m     \u001b[38;5;28;01mreturn\u001b[39;00m \u001b[38;5;28;01mNone\u001b[39;00m\n\u001b[0;32m    349\u001b[0m \u001b[38;5;28;01melse\u001b[39;00m:\n",
      "File \u001b[1;32mc:\\Users\\Persona\\anaconda3\\envs\\proyecto_samsung_python\\Lib\\site-packages\\pandas\\io\\formats\\style.py:405\u001b[0m, in \u001b[0;36mStyler._repr_html_\u001b[1;34m(self)\u001b[0m\n\u001b[0;32m    400\u001b[0m \u001b[38;5;250m\u001b[39m\u001b[38;5;124;03m\"\"\"\u001b[39;00m\n\u001b[0;32m    401\u001b[0m \u001b[38;5;124;03mHooks into Jupyter notebook rich display system, which calls _repr_html_ by\u001b[39;00m\n\u001b[0;32m    402\u001b[0m \u001b[38;5;124;03mdefault if an object is returned at the end of a cell.\u001b[39;00m\n\u001b[0;32m    403\u001b[0m \u001b[38;5;124;03m\"\"\"\u001b[39;00m\n\u001b[0;32m    404\u001b[0m \u001b[38;5;28;01mif\u001b[39;00m get_option(\u001b[38;5;124m\"\u001b[39m\u001b[38;5;124mstyler.render.repr\u001b[39m\u001b[38;5;124m\"\u001b[39m) \u001b[38;5;241m==\u001b[39m \u001b[38;5;124m\"\u001b[39m\u001b[38;5;124mhtml\u001b[39m\u001b[38;5;124m\"\u001b[39m:\n\u001b[1;32m--> 405\u001b[0m     \u001b[38;5;28;01mreturn\u001b[39;00m \u001b[38;5;28;43mself\u001b[39;49m\u001b[38;5;241;43m.\u001b[39;49m\u001b[43mto_html\u001b[49m\u001b[43m(\u001b[49m\u001b[43m)\u001b[49m\n\u001b[0;32m    406\u001b[0m \u001b[38;5;28;01mreturn\u001b[39;00m \u001b[38;5;28;01mNone\u001b[39;00m\n",
      "File \u001b[1;32mc:\\Users\\Persona\\anaconda3\\envs\\proyecto_samsung_python\\Lib\\site-packages\\pandas\\io\\formats\\style.py:1345\u001b[0m, in \u001b[0;36mStyler.to_html\u001b[1;34m(self, buf, table_uuid, table_attributes, sparse_index, sparse_columns, bold_headers, caption, max_rows, max_columns, encoding, doctype_html, exclude_styles, **kwargs)\u001b[0m\n\u001b[0;32m   1342\u001b[0m     obj\u001b[38;5;241m.\u001b[39mset_caption(caption)\n\u001b[0;32m   1344\u001b[0m \u001b[38;5;66;03m# Build HTML string..\u001b[39;00m\n\u001b[1;32m-> 1345\u001b[0m html \u001b[38;5;241m=\u001b[39m \u001b[43mobj\u001b[49m\u001b[38;5;241;43m.\u001b[39;49m\u001b[43m_render_html\u001b[49m\u001b[43m(\u001b[49m\n\u001b[0;32m   1346\u001b[0m \u001b[43m    \u001b[49m\u001b[43msparse_index\u001b[49m\u001b[38;5;241;43m=\u001b[39;49m\u001b[43msparse_index\u001b[49m\u001b[43m,\u001b[49m\n\u001b[0;32m   1347\u001b[0m \u001b[43m    \u001b[49m\u001b[43msparse_columns\u001b[49m\u001b[38;5;241;43m=\u001b[39;49m\u001b[43msparse_columns\u001b[49m\u001b[43m,\u001b[49m\n\u001b[0;32m   1348\u001b[0m \u001b[43m    \u001b[49m\u001b[43mmax_rows\u001b[49m\u001b[38;5;241;43m=\u001b[39;49m\u001b[43mmax_rows\u001b[49m\u001b[43m,\u001b[49m\n\u001b[0;32m   1349\u001b[0m \u001b[43m    \u001b[49m\u001b[43mmax_cols\u001b[49m\u001b[38;5;241;43m=\u001b[39;49m\u001b[43mmax_columns\u001b[49m\u001b[43m,\u001b[49m\n\u001b[0;32m   1350\u001b[0m \u001b[43m    \u001b[49m\u001b[43mexclude_styles\u001b[49m\u001b[38;5;241;43m=\u001b[39;49m\u001b[43mexclude_styles\u001b[49m\u001b[43m,\u001b[49m\n\u001b[0;32m   1351\u001b[0m \u001b[43m    \u001b[49m\u001b[43mencoding\u001b[49m\u001b[38;5;241;43m=\u001b[39;49m\u001b[43mencoding\u001b[49m\u001b[43m \u001b[49m\u001b[38;5;129;43;01mor\u001b[39;49;00m\u001b[43m \u001b[49m\u001b[43mget_option\u001b[49m\u001b[43m(\u001b[49m\u001b[38;5;124;43m\"\u001b[39;49m\u001b[38;5;124;43mstyler.render.encoding\u001b[39;49m\u001b[38;5;124;43m\"\u001b[39;49m\u001b[43m)\u001b[49m\u001b[43m,\u001b[49m\n\u001b[0;32m   1352\u001b[0m \u001b[43m    \u001b[49m\u001b[43mdoctype_html\u001b[49m\u001b[38;5;241;43m=\u001b[39;49m\u001b[43mdoctype_html\u001b[49m\u001b[43m,\u001b[49m\n\u001b[0;32m   1353\u001b[0m \u001b[43m    \u001b[49m\u001b[38;5;241;43m*\u001b[39;49m\u001b[38;5;241;43m*\u001b[39;49m\u001b[43mkwargs\u001b[49m\u001b[43m,\u001b[49m\n\u001b[0;32m   1354\u001b[0m \u001b[43m\u001b[49m\u001b[43m)\u001b[49m\n\u001b[0;32m   1356\u001b[0m \u001b[38;5;28;01mreturn\u001b[39;00m save_to_buffer(\n\u001b[0;32m   1357\u001b[0m     html, buf\u001b[38;5;241m=\u001b[39mbuf, encoding\u001b[38;5;241m=\u001b[39m(encoding \u001b[38;5;28;01mif\u001b[39;00m buf \u001b[38;5;129;01mis\u001b[39;00m \u001b[38;5;129;01mnot\u001b[39;00m \u001b[38;5;28;01mNone\u001b[39;00m \u001b[38;5;28;01melse\u001b[39;00m \u001b[38;5;28;01mNone\u001b[39;00m)\n\u001b[0;32m   1358\u001b[0m )\n",
      "File \u001b[1;32mc:\\Users\\Persona\\anaconda3\\envs\\proyecto_samsung_python\\Lib\\site-packages\\pandas\\io\\formats\\style_render.py:204\u001b[0m, in \u001b[0;36mStylerRenderer._render_html\u001b[1;34m(self, sparse_index, sparse_columns, max_rows, max_cols, **kwargs)\u001b[0m\n\u001b[0;32m    192\u001b[0m \u001b[38;5;28;01mdef\u001b[39;00m \u001b[38;5;21m_render_html\u001b[39m(\n\u001b[0;32m    193\u001b[0m     \u001b[38;5;28mself\u001b[39m,\n\u001b[0;32m    194\u001b[0m     sparse_index: \u001b[38;5;28mbool\u001b[39m,\n\u001b[1;32m   (...)\u001b[0m\n\u001b[0;32m    198\u001b[0m     \u001b[38;5;241m*\u001b[39m\u001b[38;5;241m*\u001b[39mkwargs,\n\u001b[0;32m    199\u001b[0m ) \u001b[38;5;241m-\u001b[39m\u001b[38;5;241m>\u001b[39m \u001b[38;5;28mstr\u001b[39m:\n\u001b[0;32m    200\u001b[0m \u001b[38;5;250m    \u001b[39m\u001b[38;5;124;03m\"\"\"\u001b[39;00m\n\u001b[0;32m    201\u001b[0m \u001b[38;5;124;03m    Renders the ``Styler`` including all applied styles to HTML.\u001b[39;00m\n\u001b[0;32m    202\u001b[0m \u001b[38;5;124;03m    Generates a dict with necessary kwargs passed to jinja2 template.\u001b[39;00m\n\u001b[0;32m    203\u001b[0m \u001b[38;5;124;03m    \"\"\"\u001b[39;00m\n\u001b[1;32m--> 204\u001b[0m     d \u001b[38;5;241m=\u001b[39m \u001b[38;5;28;43mself\u001b[39;49m\u001b[38;5;241;43m.\u001b[39;49m\u001b[43m_render\u001b[49m\u001b[43m(\u001b[49m\u001b[43msparse_index\u001b[49m\u001b[43m,\u001b[49m\u001b[43m \u001b[49m\u001b[43msparse_columns\u001b[49m\u001b[43m,\u001b[49m\u001b[43m \u001b[49m\u001b[43mmax_rows\u001b[49m\u001b[43m,\u001b[49m\u001b[43m \u001b[49m\u001b[43mmax_cols\u001b[49m\u001b[43m,\u001b[49m\u001b[43m \u001b[49m\u001b[38;5;124;43m\"\u001b[39;49m\u001b[38;5;124;43m&nbsp;\u001b[39;49m\u001b[38;5;124;43m\"\u001b[39;49m\u001b[43m)\u001b[49m\n\u001b[0;32m    205\u001b[0m     d\u001b[38;5;241m.\u001b[39mupdate(kwargs)\n\u001b[0;32m    206\u001b[0m     \u001b[38;5;28;01mreturn\u001b[39;00m \u001b[38;5;28mself\u001b[39m\u001b[38;5;241m.\u001b[39mtemplate_html\u001b[38;5;241m.\u001b[39mrender(\n\u001b[0;32m    207\u001b[0m         \u001b[38;5;241m*\u001b[39m\u001b[38;5;241m*\u001b[39md,\n\u001b[0;32m    208\u001b[0m         html_table_tpl\u001b[38;5;241m=\u001b[39m\u001b[38;5;28mself\u001b[39m\u001b[38;5;241m.\u001b[39mtemplate_html_table,\n\u001b[0;32m    209\u001b[0m         html_style_tpl\u001b[38;5;241m=\u001b[39m\u001b[38;5;28mself\u001b[39m\u001b[38;5;241m.\u001b[39mtemplate_html_style,\n\u001b[0;32m    210\u001b[0m     )\n",
      "File \u001b[1;32mc:\\Users\\Persona\\anaconda3\\envs\\proyecto_samsung_python\\Lib\\site-packages\\pandas\\io\\formats\\style_render.py:161\u001b[0m, in \u001b[0;36mStylerRenderer._render\u001b[1;34m(self, sparse_index, sparse_columns, max_rows, max_cols, blank)\u001b[0m\n\u001b[0;32m    147\u001b[0m \u001b[38;5;28;01mdef\u001b[39;00m \u001b[38;5;21m_render\u001b[39m(\n\u001b[0;32m    148\u001b[0m     \u001b[38;5;28mself\u001b[39m,\n\u001b[0;32m    149\u001b[0m     sparse_index: \u001b[38;5;28mbool\u001b[39m,\n\u001b[1;32m   (...)\u001b[0m\n\u001b[0;32m    153\u001b[0m     blank: \u001b[38;5;28mstr\u001b[39m \u001b[38;5;241m=\u001b[39m \u001b[38;5;124m\"\u001b[39m\u001b[38;5;124m\"\u001b[39m,\n\u001b[0;32m    154\u001b[0m ):\n\u001b[0;32m    155\u001b[0m \u001b[38;5;250m    \u001b[39m\u001b[38;5;124;03m\"\"\"\u001b[39;00m\n\u001b[0;32m    156\u001b[0m \u001b[38;5;124;03m    Computes and applies styles and then generates the general render dicts.\u001b[39;00m\n\u001b[0;32m    157\u001b[0m \n\u001b[0;32m    158\u001b[0m \u001b[38;5;124;03m    Also extends the `ctx` and `ctx_index` attributes with those of concatenated\u001b[39;00m\n\u001b[0;32m    159\u001b[0m \u001b[38;5;124;03m    stylers for use within `_translate_latex`\u001b[39;00m\n\u001b[0;32m    160\u001b[0m \u001b[38;5;124;03m    \"\"\"\u001b[39;00m\n\u001b[1;32m--> 161\u001b[0m     \u001b[38;5;28;43mself\u001b[39;49m\u001b[38;5;241;43m.\u001b[39;49m\u001b[43m_compute\u001b[49m\u001b[43m(\u001b[49m\u001b[43m)\u001b[49m\n\u001b[0;32m    162\u001b[0m     dxs \u001b[38;5;241m=\u001b[39m []\n\u001b[0;32m    163\u001b[0m     ctx_len \u001b[38;5;241m=\u001b[39m \u001b[38;5;28mlen\u001b[39m(\u001b[38;5;28mself\u001b[39m\u001b[38;5;241m.\u001b[39mindex)\n",
      "File \u001b[1;32mc:\\Users\\Persona\\anaconda3\\envs\\proyecto_samsung_python\\Lib\\site-packages\\pandas\\io\\formats\\style_render.py:256\u001b[0m, in \u001b[0;36mStylerRenderer._compute\u001b[1;34m(self)\u001b[0m\n\u001b[0;32m    254\u001b[0m r \u001b[38;5;241m=\u001b[39m \u001b[38;5;28mself\u001b[39m\n\u001b[0;32m    255\u001b[0m \u001b[38;5;28;01mfor\u001b[39;00m func, args, kwargs \u001b[38;5;129;01min\u001b[39;00m \u001b[38;5;28mself\u001b[39m\u001b[38;5;241m.\u001b[39m_todo:\n\u001b[1;32m--> 256\u001b[0m     r \u001b[38;5;241m=\u001b[39m \u001b[43mfunc\u001b[49m\u001b[43m(\u001b[49m\u001b[38;5;28;43mself\u001b[39;49m\u001b[43m)\u001b[49m\u001b[43m(\u001b[49m\u001b[38;5;241;43m*\u001b[39;49m\u001b[43margs\u001b[49m\u001b[43m,\u001b[49m\u001b[43m \u001b[49m\u001b[38;5;241;43m*\u001b[39;49m\u001b[38;5;241;43m*\u001b[39;49m\u001b[43mkwargs\u001b[49m\u001b[43m)\u001b[49m\n\u001b[0;32m    257\u001b[0m \u001b[38;5;28;01mreturn\u001b[39;00m r\n",
      "File \u001b[1;32mc:\\Users\\Persona\\anaconda3\\envs\\proyecto_samsung_python\\Lib\\site-packages\\pandas\\io\\formats\\style.py:1709\u001b[0m, in \u001b[0;36mStyler._apply\u001b[1;34m(self, func, axis, subset, **kwargs)\u001b[0m\n\u001b[0;32m   1707\u001b[0m     result \u001b[38;5;241m=\u001b[39m DataFrame()\n\u001b[0;32m   1708\u001b[0m \u001b[38;5;28;01melif\u001b[39;00m axis \u001b[38;5;129;01mis\u001b[39;00m \u001b[38;5;28;01mNone\u001b[39;00m:\n\u001b[1;32m-> 1709\u001b[0m     result \u001b[38;5;241m=\u001b[39m \u001b[43mfunc\u001b[49m\u001b[43m(\u001b[49m\u001b[43mdata\u001b[49m\u001b[43m,\u001b[49m\u001b[43m \u001b[49m\u001b[38;5;241;43m*\u001b[39;49m\u001b[38;5;241;43m*\u001b[39;49m\u001b[43mkwargs\u001b[49m\u001b[43m)\u001b[49m\n\u001b[0;32m   1710\u001b[0m     \u001b[38;5;28;01mif\u001b[39;00m \u001b[38;5;129;01mnot\u001b[39;00m \u001b[38;5;28misinstance\u001b[39m(result, DataFrame):\n\u001b[0;32m   1711\u001b[0m         \u001b[38;5;28;01mif\u001b[39;00m \u001b[38;5;129;01mnot\u001b[39;00m \u001b[38;5;28misinstance\u001b[39m(result, np\u001b[38;5;241m.\u001b[39mndarray):\n",
      "File \u001b[1;32mc:\\Users\\Persona\\anaconda3\\envs\\proyecto_samsung_python\\Lib\\site-packages\\pandas\\io\\formats\\style.py:3806\u001b[0m, in \u001b[0;36m_background_gradient\u001b[1;34m(data, cmap, low, high, text_color_threshold, vmin, vmax, gmap, text_only)\u001b[0m\n\u001b[0;32m   3803\u001b[0m \u001b[38;5;28;01melse\u001b[39;00m:  \u001b[38;5;66;03m# else validate gmap against the underlying data\u001b[39;00m\n\u001b[0;32m   3804\u001b[0m     gmap \u001b[38;5;241m=\u001b[39m _validate_apply_axis_arg(gmap, \u001b[38;5;124m\"\u001b[39m\u001b[38;5;124mgmap\u001b[39m\u001b[38;5;124m\"\u001b[39m, \u001b[38;5;28mfloat\u001b[39m, data)\n\u001b[1;32m-> 3806\u001b[0m \u001b[43m\u001b[49m\u001b[38;5;28;43;01mwith\u001b[39;49;00m\u001b[43m \u001b[49m\u001b[43m_mpl\u001b[49m\u001b[43m(\u001b[49m\u001b[43mStyler\u001b[49m\u001b[38;5;241;43m.\u001b[39;49m\u001b[43mbackground_gradient\u001b[49m\u001b[43m)\u001b[49m\u001b[43m \u001b[49m\u001b[38;5;28;43;01mas\u001b[39;49;00m\u001b[43m \u001b[49m\u001b[43m(\u001b[49m\u001b[43m_\u001b[49m\u001b[43m,\u001b[49m\u001b[43m \u001b[49m\u001b[43m_matplotlib\u001b[49m\u001b[43m)\u001b[49m\u001b[43m:\u001b[49m\n\u001b[0;32m   3807\u001b[0m \u001b[43m    \u001b[49m\u001b[43msmin\u001b[49m\u001b[43m \u001b[49m\u001b[38;5;241;43m=\u001b[39;49m\u001b[43m \u001b[49m\u001b[43mnp\u001b[49m\u001b[38;5;241;43m.\u001b[39;49m\u001b[43mnanmin\u001b[49m\u001b[43m(\u001b[49m\u001b[43mgmap\u001b[49m\u001b[43m)\u001b[49m\u001b[43m \u001b[49m\u001b[38;5;28;43;01mif\u001b[39;49;00m\u001b[43m \u001b[49m\u001b[43mvmin\u001b[49m\u001b[43m \u001b[49m\u001b[38;5;129;43;01mis\u001b[39;49;00m\u001b[43m \u001b[49m\u001b[38;5;28;43;01mNone\u001b[39;49;00m\u001b[43m \u001b[49m\u001b[38;5;28;43;01melse\u001b[39;49;00m\u001b[43m \u001b[49m\u001b[43mvmin\u001b[49m\n\u001b[0;32m   3808\u001b[0m \u001b[43m    \u001b[49m\u001b[43msmax\u001b[49m\u001b[43m \u001b[49m\u001b[38;5;241;43m=\u001b[39;49m\u001b[43m \u001b[49m\u001b[43mnp\u001b[49m\u001b[38;5;241;43m.\u001b[39;49m\u001b[43mnanmax\u001b[49m\u001b[43m(\u001b[49m\u001b[43mgmap\u001b[49m\u001b[43m)\u001b[49m\u001b[43m \u001b[49m\u001b[38;5;28;43;01mif\u001b[39;49;00m\u001b[43m \u001b[49m\u001b[43mvmax\u001b[49m\u001b[43m \u001b[49m\u001b[38;5;129;43;01mis\u001b[39;49;00m\u001b[43m \u001b[49m\u001b[38;5;28;43;01mNone\u001b[39;49;00m\u001b[43m \u001b[49m\u001b[38;5;28;43;01melse\u001b[39;49;00m\u001b[43m \u001b[49m\u001b[43mvmax\u001b[49m\n",
      "File \u001b[1;32mc:\\Users\\Persona\\anaconda3\\envs\\proyecto_samsung_python\\Lib\\contextlib.py:137\u001b[0m, in \u001b[0;36m_GeneratorContextManager.__enter__\u001b[1;34m(self)\u001b[0m\n\u001b[0;32m    135\u001b[0m \u001b[38;5;28;01mdel\u001b[39;00m \u001b[38;5;28mself\u001b[39m\u001b[38;5;241m.\u001b[39margs, \u001b[38;5;28mself\u001b[39m\u001b[38;5;241m.\u001b[39mkwds, \u001b[38;5;28mself\u001b[39m\u001b[38;5;241m.\u001b[39mfunc\n\u001b[0;32m    136\u001b[0m \u001b[38;5;28;01mtry\u001b[39;00m:\n\u001b[1;32m--> 137\u001b[0m     \u001b[38;5;28;01mreturn\u001b[39;00m \u001b[38;5;28;43mnext\u001b[39;49m\u001b[43m(\u001b[49m\u001b[38;5;28;43mself\u001b[39;49m\u001b[38;5;241;43m.\u001b[39;49m\u001b[43mgen\u001b[49m\u001b[43m)\u001b[49m\n\u001b[0;32m    138\u001b[0m \u001b[38;5;28;01mexcept\u001b[39;00m \u001b[38;5;167;01mStopIteration\u001b[39;00m:\n\u001b[0;32m    139\u001b[0m     \u001b[38;5;28;01mraise\u001b[39;00m \u001b[38;5;167;01mRuntimeError\u001b[39;00m(\u001b[38;5;124m\"\u001b[39m\u001b[38;5;124mgenerator didn\u001b[39m\u001b[38;5;124m'\u001b[39m\u001b[38;5;124mt yield\u001b[39m\u001b[38;5;124m\"\u001b[39m) \u001b[38;5;28;01mfrom\u001b[39;00m \u001b[38;5;28;01mNone\u001b[39;00m\n",
      "File \u001b[1;32mc:\\Users\\Persona\\anaconda3\\envs\\proyecto_samsung_python\\Lib\\site-packages\\pandas\\io\\formats\\style.py:98\u001b[0m, in \u001b[0;36m_mpl\u001b[1;34m(func)\u001b[0m\n\u001b[0;32m     96\u001b[0m     \u001b[38;5;28;01myield\u001b[39;00m plt, mpl\n\u001b[0;32m     97\u001b[0m \u001b[38;5;28;01melse\u001b[39;00m:\n\u001b[1;32m---> 98\u001b[0m     \u001b[38;5;28;01mraise\u001b[39;00m \u001b[38;5;167;01mImportError\u001b[39;00m(\u001b[38;5;124mf\u001b[39m\u001b[38;5;124m\"\u001b[39m\u001b[38;5;132;01m{\u001b[39;00mfunc\u001b[38;5;241m.\u001b[39m\u001b[38;5;18m__name__\u001b[39m\u001b[38;5;132;01m}\u001b[39;00m\u001b[38;5;124m requires matplotlib.\u001b[39m\u001b[38;5;124m\"\u001b[39m)\n",
      "\u001b[1;31mImportError\u001b[0m: background_gradient requires matplotlib."
     ]
    },
    {
     "data": {
      "text/plain": [
       "<pandas.io.formats.style.Styler at 0x1a14af2cd10>"
      ]
     },
     "execution_count": 5,
     "metadata": {},
     "output_type": "execute_result"
    }
   ],
   "source": [
    "import pandas as pd\n",
    "import matplotlib.pyplot\n",
    "\n",
    "df = pd.read_csv('datos_completos_2023.csv')\n",
    "df.columns = df.columns.str.strip()\n",
    "df.columns = df.columns.str.replace('\\t', ' ')\n",
    "correlacion = df[['Contrato 2024', 'RANK 2023', 'AGE 2023', 'GP 2023', 'W 2023', 'L 2023', 'MIN 2023', 'PTS 2023', 'FGM 2023', 'FGA 2023', 'FG% 2023', '3PM 2023', '3PA 2023', '3P% 2023', 'FTM 2023', 'FTA 2023', 'FT% 2023', 'OREB 2023', 'DREB 2023', 'REB 2023', 'AST 2023', 'TOV 2023', 'STL 2023', 'BLK 2023', 'PF 2023', 'FP 2023', 'DD2 2023', 'TD3 2023', '+/- 2023']].corr()\n",
    "print(correlacion)\n",
    "correlacion.style.background_gradient(cmap='coolwarm', axis=None).format(precision=2)"
   ]
  }
 ],
 "metadata": {
  "colab": {
   "authorship_tag": "ABX9TyOnw2Xm12XJ1sxtXWsJGYSf",
   "provenance": []
  },
  "kernelspec": {
   "display_name": "proyecto_samsung_python",
   "language": "python",
   "name": "python3"
  },
  "language_info": {
   "codemirror_mode": {
    "name": "ipython",
    "version": 3
   },
   "file_extension": ".py",
   "mimetype": "text/x-python",
   "name": "python",
   "nbconvert_exporter": "python",
   "pygments_lexer": "ipython3",
   "version": "3.12.7"
  }
 },
 "nbformat": 4,
 "nbformat_minor": 0
}
